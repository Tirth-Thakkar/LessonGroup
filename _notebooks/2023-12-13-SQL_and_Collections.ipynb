{
 "cells": [
  {
   "cell_type": "markdown",
   "metadata": {},
   "source": [
    "---\n",
    "toc: true\n",
    "comments: true\n",
    "layout: notebook\n",
    "title: SQL Student Lesson Section\n",
    "description: by Tirth T, Haseeb B, Sreeja G, Ekam K, Drew R, Adan R\n",
    "---"
   ]
  },
  {
   "cell_type": "markdown",
   "metadata": {},
   "source": [
    "Covering:\n",
    "- Person model file\n",
    "    - Lombok: @Data, @AllArgsConstructor, @NoArgsConstructor create getters, setters and toString methods\n",
    "    - @Entity tag - indicates that this is a JPA entity that will be stored in SQL database records\n",
    "    - @Id for private long Id - indicates that this will be a unique identifier for each entry in the SQL database\n",
    "    - @GeneratedValue(strategy = GenerationType.AUTO) - indicates that the ID will be automatically generated based on the previous contents of the database\n",
    "    - @NotEmpty, @Size(min=5), @Column(unique=true), @Email - these all set restrictions on the kind of information\n",
    "- ManyToMany Relationship\n",
    "    - A \"Many-to-Many\" relationship is a type of association in a relational database design where entities on both sides of the relationship can have multiple connections to each other. In other words, each entity on one side of the relationship can be associated with multiple entities on the other side, and vice versa.\n",
    "    - The (fetch = EAGER) specifies that when a Person entity is loaded, its associated PersonRole entities should be fetched eagerly (loaded immediately along with the Person entity).\n",
    "- ManyToOne Relationship\n",
    "    - In the context of a relational database, a many-to-one relationship typically means that multiple instances of one entity (the \"many\" side) are associated with a single instance of another entity (the \"one\" side).\n",
    "    - The tag being assigned to Notes indicates that it is the many side, so multiple notes can be attributed to one Person object but a note can only be associated with a single Person object.\n",
    "- jsonb"
   ]
  },
  {
   "cell_type": "code",
   "execution_count": null,
   "metadata": {},
   "outputs": [],
   "source": [
    "@ManyToMany(fetch = EAGER)\n",
    "private Collection<PersonRole> roles = new ArrayList<>();\n",
    "\n",
    "@JdbcTypeCode(SqlTypes.JSON)\n",
    "@Column(columnDefinition = \"jsonb\")\n",
    "private Map<String, Map<String, Object>> stats = new HashMap<>();"
   ]
  }
 ],
 "metadata": {
  "kernelspec": {
   "display_name": "Java",
   "language": "java",
   "name": "java"
  },
  "language_info": {
   "name": "java"
  },
  "orig_nbformat": 4
 },
 "nbformat": 4,
 "nbformat_minor": 2
}
