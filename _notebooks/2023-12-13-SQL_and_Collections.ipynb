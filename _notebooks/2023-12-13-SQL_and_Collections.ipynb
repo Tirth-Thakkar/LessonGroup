{
 "cells": [
  {
   "cell_type": "markdown",
   "metadata": {},
   "source": [
    "---\n",
    "toc: true\n",
    "comments: true\n",
    "layout: notebook\n",
    "title: SQL Student Lesson Section\n",
    "description: by Tirth T, Haseeb B, Sreeja G, Ekam K, Drew R, Adan R\n",
    "---"
   ]
  },
  {
   "cell_type": "markdown",
   "metadata": {},
   "source": [
    "## SQL\n",
    "\n",
    "SQL is a programming language focused on managing and manipulating relational (table-based) databases. It acts as the backbone for many of this class's project backends, allowing users to create, read, update and delete data efficiently. To get a better idea of how data is formatted with JPA to be stored in an SQL database, we'll be looking at the `Person` object in the lesson backend. Follow along in this notebook.\n",
    "\n",
    "### Person Model File Setup\n",
    "\n",
    "After the first three tags, which specify to Lombok that `@AllArgsConstructor` and `@NoArgsConstructor` methods should be created\n",
    "\n",
    "The `@Entity` tag indicates that Person objects will be stored as entities in a database. Generally, entities' attributes are represented by values in columns in the SQLite table."
   ]
  },
  {
   "cell_type": "code",
   "execution_count": null,
   "metadata": {},
   "outputs": [],
   "source": [
    "@Data\n",
    "@AllArgsConstructor\n",
    "@NoArgsConstructor\n",
    "@Entity\n",
    "@Convert(attributeName =\"person\", converter = JsonType.class)\n",
    "public class Person //..."
   ]
  },
  {
   "cell_type": "markdown",
   "metadata": {},
   "source": [
    "The `@Id` tag specifies to that this value will be used as the unique identifier for each object in the database, and `@GeneratedValue(strategy = GenerationType.AUTO)` allows these ID's to be automatically generated when a new Person is created. In order for data to be most easily differentiated and manipulated in a database, IDs are deeply important to use."
   ]
  },
  {
   "cell_type": "code",
   "execution_count": null,
   "metadata": {},
   "outputs": [],
   "source": [
    "@Id\n",
    "@GeneratedValue(strategy = GenerationType.AUTO)\n",
    "private Long id;"
   ]
  },
  {
   "cell_type": "markdown",
   "metadata": {},
   "source": [
    "### Many-to-Many Relationship\n",
    "\n",
    "A \"Many-to-Many\" relationship (shown in the @ManyToMany tag) indicates that entities on both sides of a relationship can have multiple connections with each other.\n",
    "\n",
    "This condition allows for one object to be related to multiple different objects, and those different objects on the other side of the relationship can have their own relationship to other objects."
   ]
  },
  {
   "cell_type": "code",
   "execution_count": null,
   "metadata": {},
   "outputs": [],
   "source": [
    "@ManyToMany(fetch = EAGER)\n",
    "private Collection<PersonRole> roles = new ArrayList<>();"
   ]
  },
  {
   "cell_type": "markdown",
   "metadata": {},
   "source": [
    "(fetch = EAGER) specifies that, whenever a `Person` object is loaded, its corresponding `PersonRole` objects should be loaded simultaneously.\n",
    "\n",
    "Objects in a \"many-to-many\" relationship often use \"join tables\" to represent the connections between these objects.\n",
    "\n",
    "```text\n",
    "| person_id | role_id |\n",
    "|-----------|---------|\n",
    "| 1         | 1       |\n",
    "| 1         | 2       |\n",
    "| 2         | 2       |\n",
    "| 3         | 1       |\n",
    "| 3         | 3       |\n",
    "```\n",
    "\n",
    "This is what a \"join table\" may look like with multiple interconnected people and roles. There is a table in the backend repository's SQLite.db called `person_roles` that acts as a join table for the two roles, but you'll notice that it's empty. If you can show it filled up, that sounds like a good reason to give extra points.\n",
    "\n",
    "#### Popcorn Hack!\n",
    "\n",
    "Explain in your own words what the relationship between `Person` objects and `PersonRole` objects is. Why is this relevant to collections? (Hint: In the code above, multiple `PersonRole` objects are stored within a `Person` object's roles attribute.)"
   ]
  },
  {
   "cell_type": "markdown",
   "metadata": {},
   "source": [
    "### Many-to-One Relationship\n",
    "\n",
    "On the other hand, there is also a \"Many-to-One\" relationship that can exist between two objects. It means that multiple instances of one entity (the \"many\" side) are associated with a single instance of another entity (the \"one\" side). This can be seen applied to the `Note` object in relation to the `Person` object."
   ]
  },
  {
   "cell_type": "code",
   "execution_count": null,
   "metadata": {},
   "outputs": [],
   "source": [
    "@ManyToOne(fetch = FetchType.LAZY, optional = false)\n",
    "@JoinColumn(name = \"tutorial_id\", nullable = false) // notice this!\n",
    "@OnDelete(action = OnDeleteAction.CASCADE)\n",
    "@JsonIgnore\n",
    "private Person person;"
   ]
  },
  {
   "cell_type": "markdown",
   "metadata": {},
   "source": [
    "Notice the `@JoinColumn(name = \"tutorial_id\", nullable = false)` tag. Then, check the `note` table in the sqlite.db file.\n",
    "\n",
    "#### Popcorn Hack!\n",
    "\n",
    "Where do you see \"tutorial_id\" on the table? What does it represent in relation to the leftmost \"id\" column?"
   ]
  },
  {
   "cell_type": "markdown",
   "metadata": {},
   "source": [
    "### Storing HashMaps with jsonb\n",
    "\n",
    "JSONB is a binary representation of JSON data. It is a data type used in some relational databases (such as SQL databases) to store JSON documents in a more efficient and flexible way compared to traditional JSON. Within SQL databases, this data from the JSON can often be filtered, searched and/or extracted using provided functions."
   ]
  },
  {
   "cell_type": "code",
   "execution_count": null,
   "metadata": {},
   "outputs": [],
   "source": [
    "@JdbcTypeCode(SqlTypes.JSON)\n",
    "@Column(columnDefinition = \"jsonb\")\n",
    "private Map<String,Map<String, Object>> stats = new HashMap<>(); "
   ]
  },
  {
   "cell_type": "markdown",
   "metadata": {},
   "source": [
    "JSONB allows for the storage of nested and dynamic data structures. In the context of `Person` object stats, it means that each person can store activity data with the formatted date as the key, and the structure of this JSON data can be modified or extended without altering the database schema.\n",
    "\n",
    "You can view the way this data is structured in the `person` sqlite.db table."
   ]
  }
 ],
 "metadata": {
  "kernelspec": {
   "display_name": "Java",
   "language": "java",
   "name": "java"
  },
  "language_info": {
   "name": "java"
  },
  "orig_nbformat": 4
 },
 "nbformat": 4,
 "nbformat_minor": 2
}
