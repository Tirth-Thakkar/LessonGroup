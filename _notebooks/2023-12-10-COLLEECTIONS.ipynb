{
 "cells": [
  {
   "cell_type": "markdown",
   "metadata": {},
   "source": [
    "---\n",
    "toc: true\n",
    "comments: true\n",
    "layout: notebook\n",
    "title: SQL + Collections :)\n",
    "description: by Tirth T, Haseeb B, Sreeja G, Ekam K, Drew R, Adan R\n",
    "courses: { csp: {week: 1} }\n",
    "type: hacks\n",
    "---\n"
   ]
  },
  {
   "cell_type": "markdown",
   "metadata": {},
   "source": [
    "# Collections\n",
    "\n",
    "### What are collections?\n",
    "Collections are any group of individual objects that are represented as a single unit is known as a Java Collection of Objects. In Java, a separate framework named the “Collection Framework” has been defined in JDK 1.2 which holds all the Java Collection Classes and Interface in it. It works as an interface that defines the highest-level of shared collection behavior, and extends Iterable which allows usage of ForEach loop.\n",
    "\n",
    "### How are collections used? \n",
    "Collections can be used in the following ways"
   ]
  },
  {
   "cell_type": "markdown",
   "metadata": {},
   "source": [
    "### Types of Collections\n",
    "\n",
    "- **List:**  \n",
    "    - Ordered collection\n",
    "    - Allows duplicate elements\n",
    "    - Example: **ArrayList** and **LinkedList**\n",
    "\n",
    "- **Set:**  \n",
    "    - Unordered collection \n",
    "    - No duplicates\n",
    "    - Example: **HashSet** and **TreeSet**\n",
    "\n",
    "- **Map:**  \n",
    "    - Key-pair values\n",
    "    - Each key must be unique\n",
    "    - Example: **HashMap** and **TreeMap**\n",
    "\n",
    "- **Queue:**  \n",
    "    - Follows First-In-First-Out order\n",
    "    - Example: **LinkedList** and **PriorityQueue**\n",
    "\n",
    "- **Deque:**  \n",
    "    - Double ended queue\n",
    "    - Insertion and removal at both ends\n",
    "    - Example: **ArrayDeque**"
   ]
  },
  {
   "cell_type": "markdown",
   "metadata": {},
   "source": [
    "### Popcorn Hack!\n",
    "Come up with a real world example in which collections are used! Write your answer below:"
   ]
  }
 ],
 "metadata": {
  "language_info": {
   "name": "python"
  }
 },
 "nbformat": 4,
 "nbformat_minor": 2
}
